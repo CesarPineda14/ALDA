{
 "cells": [
  {
   "cell_type": "code",
   "execution_count": 4,
   "metadata": {},
   "outputs": [],
   "source": [
    "import random, string"
   ]
  },
  {
   "cell_type": "code",
   "execution_count": 5,
   "metadata": {},
   "outputs": [],
   "source": [
    "def randomNumer(start, end):\n",
    "    print(random.randint(start, end))\n",
    "\n",
    "\n",
    "def randomCadena(size):\n",
    "    alphabet = string.ascii_letters\n",
    "    word = \"\"\n",
    "    for x in range(size):\n",
    "        word += random.choice(alphabet)\n",
    "    print(word)\n",
    "\n",
    "def randomDiccionario():\n",
    "    diccionario = {\n",
    "    \"carta\": 10,\n",
    "    \"papel\": 20,\n",
    "    \"lapiz\": 15,\n",
    "    \"borrador\": 5,\n",
    "}\n",
    "    random_key, random_value = random.choice(list(diccionario.items()))\n",
    "    print(\"llave: \",random_key)\n",
    "    print(\"valor: \",random_value)"
   ]
  },
  {
   "cell_type": "code",
   "execution_count": null,
   "metadata": {},
   "outputs": [],
   "source": [
    "randomNumer(400, 3000)\n"
   ]
  },
  {
   "cell_type": "code",
   "execution_count": null,
   "metadata": {},
   "outputs": [],
   "source": [
    "randomCadena(100)"
   ]
  },
  {
   "cell_type": "code",
   "execution_count": null,
   "metadata": {},
   "outputs": [],
   "source": [
    "randomDiccionario()"
   ]
  },
  {
   "cell_type": "code",
   "execution_count": null,
   "metadata": {},
   "outputs": [],
   "source": []
  }
 ],
 "metadata": {
  "kernelspec": {
   "display_name": "Python 3",
   "language": "python",
   "name": "python3"
  },
  "language_info": {
   "codemirror_mode": {
    "name": "ipython",
    "version": 3
   },
   "file_extension": ".py",
   "mimetype": "text/x-python",
   "name": "python",
   "nbconvert_exporter": "python",
   "pygments_lexer": "ipython3",
   "version": "3.11.3"
  }
 },
 "nbformat": 4,
 "nbformat_minor": 2
}
